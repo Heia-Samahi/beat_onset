{
 "metadata": {
  "name": ""
 },
 "nbformat": 3,
 "nbformat_minor": 0,
 "worksheets": [
  {
   "cells": [
    {
     "cell_type": "code",
     "collapsed": false,
     "input": [
      "import numpy as np\n",
      "import scipy\n",
      "import glob\n",
      "import os\n",
      "import itertools"
     ],
     "language": "python",
     "metadata": {},
     "outputs": [],
     "prompt_number": 45
    },
    {
     "cell_type": "code",
     "collapsed": false,
     "input": [
      "ROOTPATH = os.path.sep.join([os.environ['HOME'], 'git/beat_onset/data/results'])"
     ],
     "language": "python",
     "metadata": {},
     "outputs": [],
     "prompt_number": 12
    },
    {
     "cell_type": "code",
     "collapsed": false,
     "input": [
      "# To match holzapfel'12 eval on SMC2\n",
      "N_BINS = 40"
     ],
     "language": "python",
     "metadata": {},
     "outputs": [],
     "prompt_number": 112
    },
    {
     "cell_type": "code",
     "collapsed": false,
     "input": [
      "DATASETS = ['mirex2006', 'rwcj', 'jazz_roger', 'smc_dataset2']"
     ],
     "language": "python",
     "metadata": {},
     "outputs": [],
     "prompt_number": 103
    },
    {
     "cell_type": "code",
     "collapsed": false,
     "input": [
      "SCORENAMES = ['Cemgil', 'CMLc', 'CMLt', 'AMLc', 'AMLt', 'F-Meas', 'Goto', 'I.Gain', 'P_score']"
     ],
     "language": "python",
     "metadata": {},
     "outputs": [],
     "prompt_number": 18
    },
    {
     "cell_type": "code",
     "collapsed": false,
     "input": [
      "SPECS = ['full', 'harmonic', 'percussive', 'lowrank', 'sparse']\n",
      "#SCALE = ['linear', 'log']\n",
      "SCALE = ['log']\n",
      "#AGGS  = ['sum', 'q=0.25', 'q=0.50', 'q=0.75']\n",
      "AGGS  = ['sum', 'q=0.50']"
     ],
     "language": "python",
     "metadata": {},
     "outputs": [],
     "prompt_number": 122
    },
    {
     "cell_type": "code",
     "collapsed": false,
     "input": [
      "def evaluate_our_predictions(data, spec, scale, agg):\n",
      "    path = os.path.sep.join([ROOTPATH, data, os.path.extsep.join(['*', scale, agg, spec, 'scores.txt'])])\n",
      "    \n",
      "    files = sorted(glob.glob(path))\n",
      "    print data, spec, agg, scale\n",
      "    evaluate_predictions(files)\n",
      "\n",
      "def evaluate_beatroot_predictions(data):\n",
      "    path = os.path.sep.join([ROOTPATH, data, os.path.extsep.join(['*', 'beatroot.scores.txt'])])\n",
      "    \n",
      "    files = sorted(glob.glob(path))\n",
      "    print data, 'BeatRoot'\n",
      "    \n",
      "    evaluate_predictions(files)\n",
      "    \n",
      "def evaluate_predictions(files):\n",
      "    scores = None\n",
      "    \n",
      "    for f in files:\n",
      "        values = np.loadtxt(f, delimiter=',')\n",
      "        if scores is None:\n",
      "            scores = values\n",
      "        else:\n",
      "            scores = np.vstack([scores, values])\n",
      "    \n",
      "    # Un-normalize information gain\n",
      "    scores[:,-2] *= np.log2(N_BINS)\n",
      "    scores = np.mean(scores, axis=0)\n",
      "    \n",
      "    print ' '.join(map(lambda x: '   %0.3f' %x, scores))"
     ],
     "language": "python",
     "metadata": {},
     "outputs": [],
     "prompt_number": 125
    },
    {
     "cell_type": "code",
     "collapsed": false,
     "input": [
      "print ' '.join(map(lambda x: '%8s' %x, SCORENAMES))\n",
      "print '-' * 80\n",
      "for data in DATASETS:\n",
      "    \n",
      "    evaluate_beatroot_predictions(data)\n",
      "    print"
     ],
     "language": "python",
     "metadata": {},
     "outputs": [
      {
       "output_type": "stream",
       "stream": "stdout",
       "text": [
        "  Cemgil     CMLc     CMLt     AMLc     AMLt   F-Meas     Goto   I.Gain  P_score\n",
        "--------------------------------------------------------------------------------\n",
        "mirex2006 BeatRoot\n",
        "   0.467    0.291    0.400    0.385    0.628    0.609    0.100    1.307    0.638\n",
        "\n",
        "rwcj BeatRoot\n",
        "   0.396    0.113    0.268    0.220    0.731    0.561    0.020    1.393    0.563\n",
        "\n",
        "jazz_roger BeatRoot\n",
        "   0.243    0.057    0.207    0.156    0.447    0.337    0.000    0.337    0.418\n",
        "\n",
        "smc_dataset2 BeatRoot\n",
        "   0.244    0.045    0.069    0.130    0.274    0.323    0.032    0.628    0.426"
       ]
      },
      {
       "output_type": "stream",
       "stream": "stdout",
       "text": [
        "\n",
        "\n"
       ]
      }
     ],
     "prompt_number": 127
    },
    {
     "cell_type": "code",
     "collapsed": false,
     "input": [
      "print ' '.join(map(lambda x: '%8s' %x, SCORENAMES))\n",
      "print '-' * 80\n",
      "for (data, spec, agg, scale) in itertools.product(DATASETS, SPECS, AGGS, SCALE):\n",
      "    evaluate_our_predictions(data, spec, scale, agg)\n",
      "    print"
     ],
     "language": "python",
     "metadata": {},
     "outputs": [
      {
       "output_type": "stream",
       "stream": "stdout",
       "text": [
        "  Cemgil     CMLc     CMLt     AMLc     AMLt   F-Meas     Goto   I.Gain  P_score\n",
        "--------------------------------------------------------------------------------\n",
        "mirex2006 full sum log\n",
        "   0.340    0.178    0.318    0.320    0.549    0.480    0.050    1.527    0.565\n",
        "\n",
        "mirex2006 full q=0.50 log\n",
        "   0.354    0.235    0.436    0.318    0.617    0.512    0.100    1.617    0.633\n",
        "\n",
        "mirex2006 harmonic sum log\n",
        "   0.326    0.196    0.317    0.287    0.496    0.464    0.050    1.445    0.554\n",
        "\n",
        "mirex2006 harmonic q=0.50 log\n",
        "   0.338    0.229    0.422    0.310    0.583    0.484    0.100    1.579    0.626\n",
        "\n",
        "mirex2006 percussive sum log\n",
        "   0.350    0.180    0.327    0.332    0.563    0.487    0.100    1.506    0.571\n",
        "\n",
        "mirex2006 percussive q=0.50 log\n",
        "   0.345    0.235    0.393    0.358    0.607    0.489    0.150    1.557    0.599\n",
        "\n",
        "mirex2006 lowrank sum log\n",
        "   0.352    0.179    0.324    0.321    0.557    0.488    0.050    1.517    0.565\n",
        "\n",
        "mirex2006 lowrank q=0.50 log\n",
        "   0.355    0.227    0.415    0.336    0.608    0.510    0.100    1.569    0.639\n",
        "\n",
        "mirex2006 sparse sum log\n",
        "   0.363    0.233    0.342    0.267    0.418    0.477    0.100    1.218    0.567\n",
        "\n",
        "mirex2006 sparse q=0.50 log\n",
        "   0.267    0.110    0.196    0.304    0.489    0.386    0.050    1.271    0.479\n",
        "\n",
        "rwcj full sum log\n",
        "   0.337    0.090    0.313    0.138    0.576    0.519    0.000    1.122    0.584"
       ]
      },
      {
       "output_type": "stream",
       "stream": "stdout",
       "text": [
        "\n",
        "\n",
        "rwcj full q=0.50 log\n",
        "   0.319    0.089    0.328    0.125    0.546    0.504    0.000    1.054    0.585\n",
        "\n",
        "rwcj harmonic sum log\n",
        "   0.329    0.090    0.299    0.138    0.560    0.512    0.000    1.094    0.577\n",
        "\n",
        "rwcj harmonic q=0.50 log\n",
        "   0.311    0.085    0.323    0.120    0.545    0.499    0.000    1.050    0.583\n",
        "\n",
        "rwcj percussive sum log\n",
        "   0.338    0.113    0.295    0.167    0.559    0.505    0.000    1.092    0.567\n",
        "\n",
        "rwcj percussive q=0.50 log\n",
        "   0.326    0.096    0.285    0.156    0.553    0.497    0.000    1.049    0.564\n",
        "\n",
        "rwcj"
       ]
      },
      {
       "output_type": "stream",
       "stream": "stdout",
       "text": [
        " lowrank sum log\n",
        "   0.338    0.112    0.299    0.166    0.570    0.513    0.000    1.110    0.573\n",
        "\n",
        "rwcj lowrank q=0.50 log\n",
        "   0.333    0.101    0.322    0.145    0.570    0.515    0.000    1.095    0.586\n",
        "\n",
        "rwcj sparse sum log\n",
        "   0.308    0.090    0.237    0.142    0.503    0.463    0.000    0.965    0.530\n",
        "\n",
        "rwcj sparse q=0.50 log\n",
        "   0.219    0.065    0.279    0.088    0.423    0.384    0.000    0.784    0.521\n",
        "\n",
        "jazz_roger full sum log\n",
        "   0.330    0.097    0.414    0.116    0.461    0.474    0.000    1.154    0.626\n",
        "\n",
        "jazz_roger full q=0.50 log\n",
        "   0.342    0.100    0.483    0.114    0.543    0.496    0.000    1.244    0.677\n",
        "\n",
        "jazz_roger harmonic sum log\n",
        "   0.319    0.089    0.400    0.106    0.451    0.458    0.000    1.107    0.617\n",
        "\n",
        "jazz_roger harmonic q=0.50 log\n",
        "   0.329    0.096    0.478    0.109    0.534    0.479    0.000    1.216    0.672\n",
        "\n",
        "jazz_roger"
       ]
      },
      {
       "output_type": "stream",
       "stream": "stdout",
       "text": [
        " percussive sum log\n",
        "   0.344    0.106    0.416    0.124    0.466    0.487    0.000    1.148    0.622\n",
        "\n",
        "jazz_roger percussive q=0.50 log\n",
        "   0.351    0.107    0.501    0.108    0.510    0.501    0.000    1.255    0.678\n",
        "\n",
        "jazz_roger lowrank sum log\n",
        "   0.338    0.105    0.412    0.123    0.468    0.477    0.000    1.113    0.621\n",
        "\n",
        "jazz_roger lowrank q=0.50 log\n",
        "   0.350    0.097    0.496    0.106    0.536    0.500    0.000    1.219    0.676\n",
        "\n",
        "jazz_roger sparse sum log\n",
        "   0.297    0.098    0.290    0.099    0.302    0.407    0.059    0.747    0.505\n",
        "\n",
        "jazz_roger sparse q=0.50 log\n",
        "   0.298    0.123    0.473    0.152    0.552    0.452    0.000    1.250    0.672\n",
        "\n",
        "smc_dataset2 full sum log\n",
        "   0.269    0.072    0.122    0.146    0.313    0.364    0.055    0.781    0.458"
       ]
      },
      {
       "output_type": "stream",
       "stream": "stdout",
       "text": [
        "\n",
        "\n",
        "smc_dataset2 full q=0.50 log\n",
        "   0.275    0.092    0.166    0.163    0.336    0.377    0.074    0.856    0.476"
       ]
      },
      {
       "output_type": "stream",
       "stream": "stdout",
       "text": [
        "\n",
        "\n",
        "smc_dataset2 harmonic sum log\n",
        "   0.268    0.075    0.124    0.146    0.311    0.365    0.051    0.779    0.459\n",
        "\n",
        "smc_dataset2"
       ]
      },
      {
       "output_type": "stream",
       "stream": "stdout",
       "text": [
        " harmonic q=0.50 log\n",
        "   0.269    0.091    0.166    0.156    0.330    0.372    0.074    0.857    0.479\n",
        "\n",
        "smc_dataset2 percussive sum log\n",
        "   0.267    0.068    0.114    0.143    0.304    0.358    0.060    0.755    0.451"
       ]
      },
      {
       "output_type": "stream",
       "stream": "stdout",
       "text": [
        "\n",
        "\n",
        "smc_dataset2 percussive q=0.50 log\n",
        "   0.283    0.087    0.152    0.180    0.363    0.383    0.074    0.887    0.473\n",
        "\n",
        "smc_dataset2"
       ]
      },
      {
       "output_type": "stream",
       "stream": "stdout",
       "text": [
        " lowrank sum log\n",
        "   0.267    0.071    0.119    0.149    0.310    0.359    0.065    0.780    0.454\n",
        "\n",
        "smc_dataset2 lowrank q=0.50 log\n",
        "   0.278    0.086    0.151    0.159    0.330    0.378    0.069    0.844    0.472"
       ]
      },
      {
       "output_type": "stream",
       "stream": "stdout",
       "text": [
        "\n",
        "\n",
        "smc_dataset2 sparse sum log\n",
        "   0.213    0.050    0.085    0.108    0.234    0.295    0.028    0.617    0.429\n",
        "\n",
        "smc_dataset2"
       ]
      },
      {
       "output_type": "stream",
       "stream": "stdout",
       "text": [
        " sparse q=0.50 log\n",
        "   0.142    0.050    0.079    0.123    0.184    0.210    0.023    0.786    0.312\n",
        "\n"
       ]
      }
     ],
     "prompt_number": 128
    }
   ],
   "metadata": {}
  }
 ]
}