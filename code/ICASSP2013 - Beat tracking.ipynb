{
 "metadata": {
  "name": ""
 },
 "nbformat": 3,
 "nbformat_minor": 0,
 "worksheets": [
  {
   "cells": [
    {
     "cell_type": "code",
     "collapsed": false,
     "input": [
      "import numpy as np\n",
      "import scipy\n",
      "import glob\n",
      "import os\n",
      "import itertools"
     ],
     "language": "python",
     "metadata": {},
     "outputs": [],
     "prompt_number": 1
    },
    {
     "cell_type": "code",
     "collapsed": false,
     "input": [
      "ROOTPATH = os.path.sep.join([os.environ['HOME'], 'git/beat_onset/data/results'])"
     ],
     "language": "python",
     "metadata": {},
     "outputs": [],
     "prompt_number": 2
    },
    {
     "cell_type": "code",
     "collapsed": false,
     "input": [
      "# To match holzapfel'12 eval on SMC2\n",
      "N_BINS = 40"
     ],
     "language": "python",
     "metadata": {},
     "outputs": [],
     "prompt_number": 3
    },
    {
     "cell_type": "code",
     "collapsed": false,
     "input": [
      "DATASETS = ['mirex2006', 'rwcj', 'jazz_roger', 'smc_dataset2']"
     ],
     "language": "python",
     "metadata": {},
     "outputs": [],
     "prompt_number": 4
    },
    {
     "cell_type": "code",
     "collapsed": false,
     "input": [
      "SCORENAMES = ['Cemgil', 'CMLc', 'CMLt', 'AMLc', 'AMLt', 'F-Meas', 'Goto', 'I.Gain', 'P_score']"
     ],
     "language": "python",
     "metadata": {},
     "outputs": [],
     "prompt_number": 5
    },
    {
     "cell_type": "code",
     "collapsed": false,
     "input": [
      "SPECS = ['full', 'harmonic', 'percussive', 'lowrank', 'sparse']\n",
      "#SPECS = ['lowrank']\n",
      "#SCALE = ['linear', 'log']\n",
      "SCALE = ['log']\n",
      "AGGS  = ['sum', 'q=0.25', 'q=0.50', 'q=0.75']\n",
      "#AGGS  = ['q=0.75']"
     ],
     "language": "python",
     "metadata": {},
     "outputs": [],
     "prompt_number": 25
    },
    {
     "cell_type": "code",
     "collapsed": false,
     "input": [
      "def evaluate_our_predictions(data, spec, scale, agg):\n",
      "    path = os.path.sep.join([ROOTPATH, data, os.path.extsep.join(['*', scale, agg, spec, 'scores.txt'])])\n",
      "    \n",
      "    files = sorted(glob.glob(path))\n",
      "    print data, spec, agg, scale\n",
      "    evaluate_predictions(files)\n",
      "\n",
      "def evaluate_beatroot_predictions(data):\n",
      "    path = os.path.sep.join([ROOTPATH, data, os.path.extsep.join(['*', 'beatroot.scores.txt'])])\n",
      "    \n",
      "    files = sorted(glob.glob(path))\n",
      "    print data, 'BeatRoot'\n",
      "    \n",
      "    evaluate_predictions(files)\n",
      "    \n",
      "def evaluate_predictions(files):\n",
      "    scores = None\n",
      "    \n",
      "    for f in files:\n",
      "        values = np.loadtxt(f, delimiter=',')\n",
      "        if scores is None:\n",
      "            scores = values\n",
      "        else:\n",
      "            scores = np.vstack([scores, values])\n",
      "    \n",
      "    # Un-normalize information gain\n",
      "    scores[:,-2] *= np.log2(N_BINS)\n",
      "    scores = np.mean(scores, axis=0)\n",
      "    \n",
      "    print ' '.join(map(lambda x: '   %0.3f' %x, scores))"
     ],
     "language": "python",
     "metadata": {},
     "outputs": [],
     "prompt_number": 7
    },
    {
     "cell_type": "code",
     "collapsed": false,
     "input": [
      "print ' '.join(map(lambda x: '%8s' %x, SCORENAMES))\n",
      "print '-' * 80\n",
      "for data in DATASETS:\n",
      "    \n",
      "    evaluate_beatroot_predictions(data)\n",
      "    print"
     ],
     "language": "python",
     "metadata": {},
     "outputs": [
      {
       "output_type": "stream",
       "stream": "stdout",
       "text": [
        "  Cemgil     CMLc     CMLt     AMLc     AMLt   F-Meas     Goto   I.Gain  P_score\n",
        "--------------------------------------------------------------------------------\n",
        "mirex2006 BeatRoot\n",
        "   0.480    0.308    0.411    0.420    0.652    0.630    0.150    1.424    0.655"
       ]
      },
      {
       "output_type": "stream",
       "stream": "stdout",
       "text": [
        "\n",
        "\n",
        "rwcj BeatRoot\n",
        "   0.397    0.115    0.268    0.223    0.734    0.562    0.020    1.408    0.563"
       ]
      },
      {
       "output_type": "stream",
       "stream": "stdout",
       "text": [
        "\n",
        "\n",
        "jazz_roger BeatRoot\n",
        "   0.244    0.058    0.207    0.161    0.455    0.338    0.000    0.347    0.419"
       ]
      },
      {
       "output_type": "stream",
       "stream": "stdout",
       "text": [
        "\n",
        "\n",
        "smc_dataset2 BeatRoot\n",
        "   0.243    0.045    0.068    0.136    0.276    0.322    0.032    0.669    0.424"
       ]
      },
      {
       "output_type": "stream",
       "stream": "stdout",
       "text": [
        "\n",
        "\n"
       ]
      }
     ],
     "prompt_number": 8
    },
    {
     "cell_type": "code",
     "collapsed": false,
     "input": [
      "print ' '.join(map(lambda x: '%8s' %x, SCORENAMES))\n",
      "print '-' * 80\n",
      "for (data, spec, agg, scale) in itertools.product(DATASETS, SPECS, AGGS, SCALE):\n",
      "    evaluate_our_predictions(data, spec, scale, agg)\n",
      "    print"
     ],
     "language": "python",
     "metadata": {},
     "outputs": [
      {
       "output_type": "stream",
       "stream": "stdout",
       "text": [
        "  Cemgil     CMLc     CMLt     AMLc     AMLt   F-Meas     Goto   I.Gain  P_score\n",
        "--------------------------------------------------------------------------------\n",
        "mirex2006 full sum log\n",
        "   0.341    0.188    0.326    0.338    0.555    0.484    0.100    1.655    0.578\n",
        "\n",
        "mirex2006 full q=0.25 log\n",
        "   0.299    0.225    0.345    0.378    0.542    0.436    0.100    1.655    0.572\n",
        "\n",
        "mirex2006 full q=0.50 log\n",
        "   0.353    0.259    0.452    0.351    0.639    0.513    0.100    1.748    0.646\n",
        "\n",
        "mirex2006 full q=0.75 log\n",
        "   0.341    0.188    0.326    0.350    0.557    0.486    0.100    1.665    0.576\n",
        "\n",
        "mirex2006 harmonic sum log\n",
        "   0.328    0.209    0.325    0.309    0.502    0.469    0.100    1.547    0.567\n",
        "\n",
        "mirex2006 harmonic q=0.25 log\n",
        "   0.260    0.132    0.191    0.301    0.450    0.385    0.050    1.332    0.481\n",
        "\n",
        "mirex2006 harmonic q=0.50 log\n",
        "   0.337    0.250    0.437    0.344    0.607    0.487    0.100    1.711    0.637\n",
        "\n",
        "mirex2006 harmonic q=0.75 log\n",
        "   0.334    0.186    0.323    0.305    0.539    0.471    0.100    1.566    0.576\n",
        "\n",
        "mirex2006 percussive sum log\n",
        "   0.351    0.189    0.333    0.352    0.570    0.494    0.050    1.619    0.582\n",
        "\n",
        "mirex2006 percussive q=0.25 log\n",
        "   0.299    0.236    0.370    0.373    0.539    0.436    0.150    1.682    0.545\n",
        "\n",
        "mirex2006 percussive q=0.50 log\n",
        "   0.349    0.252    0.413    0.388    0.629    0.499    0.100    1.700    0.618\n",
        "\n",
        "mirex2006 percussive q=0.75 log\n",
        "   0.354    0.186    0.329    0.347    0.556    0.495    0.100    1.628    0.575\n",
        "\n",
        "mirex2006"
       ]
      },
      {
       "output_type": "stream",
       "stream": "stdout",
       "text": [
        " lowrank sum log\n",
        "   0.353    0.188    0.332    0.340    0.561    0.492    0.050    1.636    0.578\n",
        "\n",
        "mirex2006 lowrank q=0.25 log\n",
        "   0.325    0.235    0.376    0.432    0.632    0.476    0.150    1.803    0.613\n",
        "\n",
        "mirex2006 lowrank q=0.50 log\n",
        "   0.360    0.248    0.437    0.368    0.632    0.518    0.100    1.723    0.660\n",
        "\n",
        "mirex2006 lowrank q=0.75 log\n",
        "   0.347    0.187    0.325    0.347    0.555    0.487    0.050    1.605    0.569\n",
        "\n",
        "mirex2006 sparse sum log\n",
        "   0.368    0.240    0.344    0.270    0.420    0.481    0.100    1.313    0.570\n",
        "\n",
        "mirex2006 sparse q=0.25 log\n",
        "   0.067    0.005    0.013    0.066    0.089    0.097    0.000    0.542    0.117\n",
        "\n",
        "mirex2006 sparse q=0.50 log\n",
        "   0.265    0.119    0.202    0.319    0.488    0.389    0.050    1.341    0.485\n",
        "\n",
        "mirex2006 sparse q=0.75 log\n",
        "   0.295    0.183    0.301    0.223    0.372    0.433    0.050    1.348    0.547\n",
        "\n",
        "rwcj full sum log\n",
        "   0.338    0.091    0.313    0.140    0.577    0.519    0.000    1.130    0.584\n",
        "\n",
        "rwcj full q=0.25 log\n",
        "   0.276    0.069    0.226    0.116    0.437    0.445    0.000    0.877    0.524\n",
        "\n",
        "rwcj full q=0.50 log\n",
        "   0.319    0.090    0.327    0.127    0.546    0.503    0.000    1.059    0.584"
       ]
      },
      {
       "output_type": "stream",
       "stream": "stdout",
       "text": [
        "\n",
        "\n",
        "rwcj full q=0.75 log\n",
        "   0.336    0.103    0.319    0.156    0.595    0.516    0.000    1.139    0.583\n",
        "\n",
        "rwcj harmonic sum log\n",
        "   0.329    0.092    0.299    0.140    0.561    0.512    0.000    1.102    0.576\n",
        "\n",
        "rwcj harmonic q=0.25 log\n",
        "   0.270    0.087    0.274    0.116    0.414    0.437    0.040    0.808    0.533\n",
        "\n",
        "rwcj harmonic q=0.50 log\n",
        "   0.311    0.086    0.323    0.122    0.545    0.499    0.000    1.055    0.582\n",
        "\n",
        "rwcj harmonic q=0.75 log\n",
        "   0.322    0.087    0.292    0.137    0.564    0.503    0.000    1.103    0.568\n",
        "\n",
        "rwcj percussive sum log\n",
        "   0.338    0.114    0.295    0.169    0.559    0.505    0.000    1.098    0.567"
       ]
      },
      {
       "output_type": "stream",
       "stream": "stdout",
       "text": [
        "\n",
        "\n",
        "rwcj percussive q=0.25 log\n",
        "   0.307    0.081    0.261    0.144    0.526    0.477    0.000    0.971    0.547\n",
        "\n",
        "rwcj percussive q=0.50 log\n",
        "   0.326    0.097    0.284    0.158    0.553    0.496    0.000    1.057    0.563\n",
        "\n",
        "rwcj percussive q=0.75 log\n",
        "   0.338    0.120    0.296    0.175    0.570    0.504    0.000    1.111    0.566\n",
        "\n",
        "rwcj lowrank sum log\n",
        "   0.339    0.113    0.298    0.167    0.571    0.512    0.000    1.117    0.573\n",
        "\n",
        "rwcj lowrank q=0.25 log\n",
        "   0.303    0.080    0.266    0.132    0.506    0.482    0.000    0.992    0.549"
       ]
      },
      {
       "output_type": "stream",
       "stream": "stdout",
       "text": [
        "\n",
        "\n",
        "rwcj lowrank q=0.50 log\n",
        "   0.333    0.102    0.322    0.147    0.570    0.515    0.000    1.101    0.585\n",
        "\n",
        "rwcj lowrank q=0.75 log\n",
        "   0.339    0.111    0.304    0.171    0.584    0.509    0.000    1.128    0.570\n",
        "\n",
        "rwcj sparse sum log\n",
        "   0.309    0.092    0.236    0.145    0.503    0.463    0.000    0.968    0.529\n",
        "\n",
        "rwcj sparse q=0.25 log\n",
        "   0.115    0.015    0.078    0.033    0.153    0.182    0.000    0.254    0.261\n",
        "\n",
        "rwcj sparse q=0.50 log\n",
        "   0.220    0.066    0.281    0.089    0.426    0.386    0.000    0.791    0.524\n",
        "\n",
        "rwcj sparse q=0.75"
       ]
      },
      {
       "output_type": "stream",
       "stream": "stdout",
       "text": [
        " log\n",
        "   0.286    0.079    0.327    0.115    0.574    0.492    0.000    1.118    0.596\n",
        "\n",
        "jazz_roger full sum log\n",
        "   0.333    0.100    0.416    0.119    0.465    0.477    0.000    1.199    0.631\n",
        "\n",
        "jazz_roger full q=0.25 log\n",
        "   0.330    0.145    0.493    0.159    0.546    0.486    0.000    1.190    0.662\n",
        "\n",
        "jazz_roger full q=0.50 log\n",
        "   0.345    0.102    0.487    0.117    0.547    0.500    0.000    1.285    0.685\n",
        "\n",
        "jazz_roger full q=0.75 log\n",
        "   0.332    0.096    0.415    0.115    0.462    0.473    0.000    1.194    0.634\n",
        "\n",
        "jazz_roger harmonic sum log\n",
        "   0.321    0.091    0.402    0.109    0.454    0.460    0.000    1.155    0.622\n",
        "\n",
        "jazz_roger harmonic q=0.25 log\n",
        "   0.285    0.141    0.423    0.173    0.501    0.431    0.000    1.108    0.598\n",
        "\n",
        "jazz_roger harmonic q=0.50 log\n",
        "   0.331    0.098    0.482    0.112    0.538    0.482    0.000    1.250    0.681\n",
        "\n",
        "jazz_roger harmonic q=0.75 log\n",
        "   0.322    0.096    0.411    0.118    0.448    0.462    0.000    1.176    0.632\n",
        "\n",
        "jazz_roger percussive sum log\n",
        "   0.348    0.109    0.420    0.128    0.472    0.490    0.000    1.190    0.627\n",
        "\n",
        "jazz_roger percussive q=0.25 log\n",
        "   0.357    0.158    0.530    0.169    0.580    0.523    0.000    1.264    0.689\n",
        "\n",
        "jazz_roger percussive q=0.50 log\n",
        "   0.356    0.110    0.507    0.111    0.517    0.506    0.000    1.302    0.688\n",
        "\n",
        "jazz_roger percussive q=0.75 log\n",
        "   0.348    0.111    0.422    0.132    0.471    0.489    0.000    1.203    0.628\n",
        "\n",
        "jazz_roger lowrank sum log\n",
        "   0.342    0.108    0.415    0.126    0.473    0.480    0.000    1.166    0.626\n",
        "\n",
        "jazz_roger lowrank q=0.25 log\n",
        "   0.349    0.150    0.527    0.159    0.579    0.511    0.000    1.286    0.696"
       ]
      },
      {
       "output_type": "stream",
       "stream": "stdout",
       "text": [
        "\n",
        "\n",
        "jazz_roger lowrank q=0.50 log\n",
        "   0.353    0.100    0.500    0.109    0.541    0.503    0.000    1.258    0.684\n",
        "\n",
        "jazz_roger lowrank q=0.75 log\n",
        "   0.344    0.108    0.419    0.126    0.477    0.484    0.000    1.176    0.630\n",
        "\n",
        "jazz_roger sparse sum log\n",
        "   0.301    0.101    0.294    0.102    0.306    0.412    0.059    0.793    0.508\n",
        "\n",
        "jazz_roger sparse q=0.25 log\n",
        "   0.197    0.043    0.139    0.121    0.312    0.296    0.000    0.597    0.349\n",
        "\n",
        "jazz_roger sparse q=0.50 log\n",
        "   0.300    0.128    0.481    0.158    0.562    0.456    0.000    1.282    0.683\n",
        "\n",
        "jazz_roger sparse q=0.75 log\n",
        "   0.314    0.091    0.415    0.109    0.459    0.453    0.000    1.177    0.637\n",
        "\n",
        "smc_dataset2 full sum log\n",
        "   0.267    0.074    0.122    0.154    0.312    0.362    0.051    0.839    0.460"
       ]
      },
      {
       "output_type": "stream",
       "stream": "stdout",
       "text": [
        "\n",
        "\n",
        "smc_dataset2 full q=0.25 log\n",
        "   0.190    0.077    0.115    0.148    0.243    0.267    0.046    0.777    0.344\n",
        "\n",
        "smc_dataset2"
       ]
      },
      {
       "output_type": "stream",
       "stream": "stdout",
       "text": [
        " full q=0.50 log\n",
        "   0.272    0.097    0.166    0.172    0.336    0.374    0.060    0.916    0.477\n",
        "\n",
        "smc_dataset2 full q=0.75 log\n",
        "   0.260    0.075    0.119    0.161    0.312    0.355    0.065    0.839    0.454"
       ]
      },
      {
       "output_type": "stream",
       "stream": "stdout",
       "text": [
        "\n",
        "\n",
        "smc_dataset2 harmonic sum log\n",
        "   0.266    0.077    0.124    0.153    0.313    0.363    0.060    0.835    0.463\n",
        "\n",
        "smc_dataset2"
       ]
      },
      {
       "output_type": "stream",
       "stream": "stdout",
       "text": [
        " harmonic q=0.25 log\n",
        "   0.165    0.062    0.096    0.118    0.192    0.232    0.046    0.723    0.303\n",
        "\n",
        "smc_dataset2 harmonic q=0.50 log\n",
        "   0.265    0.095    0.165    0.165    0.329    0.368    0.055    0.916    0.480"
       ]
      },
      {
       "output_type": "stream",
       "stream": "stdout",
       "text": [
        "\n",
        "\n",
        "smc_dataset2 harmonic q=0.75 log\n",
        "   0.251    0.070    0.111    0.152    0.299    0.345    0.051    0.820    0.449\n",
        "\n",
        "smc_dataset2"
       ]
      },
      {
       "output_type": "stream",
       "stream": "stdout",
       "text": [
        " percussive sum log\n",
        "   0.266    0.071    0.114    0.151    0.304    0.357    0.051    0.811    0.454\n",
        "\n",
        "smc_dataset2 percussive q=0.25 log\n",
        "   0.215    0.081    0.125    0.159    0.270    0.300    0.046    0.821    0.380"
       ]
      },
      {
       "output_type": "stream",
       "stream": "stdout",
       "text": [
        "\n",
        "\n",
        "smc_dataset2 percussive q=0.50 log\n",
        "   0.280    0.091    0.152    0.189    0.364    0.381    0.069    0.946    0.475\n",
        "\n",
        "smc_dataset2"
       ]
      },
      {
       "output_type": "stream",
       "stream": "stdout",
       "text": [
        " percussive q=0.75 log\n",
        "   0.259    0.072    0.109    0.154    0.298    0.348    0.055    0.807    0.447\n",
        "\n",
        "smc_dataset2 lowrank sum log\n",
        "   0.265    0.075    0.118    0.158    0.310    0.357    0.060    0.835    0.455"
       ]
      },
      {
       "output_type": "stream",
       "stream": "stdout",
       "text": [
        "\n",
        "\n",
        "smc_dataset2 lowrank q=0.25 log\n",
        "   0.218    0.089    0.133    0.153    0.266    0.304    0.051    0.812    0.390\n",
        "\n",
        "smc_dataset2"
       ]
      },
      {
       "output_type": "stream",
       "stream": "stdout",
       "text": [
        " lowrank q=0.50 log\n",
        "   0.275    0.090    0.151    0.168    0.331    0.376    0.060    0.896    0.475\n",
        "\n",
        "smc_dataset2 lowrank q=0.75 log\n",
        "   0.261    0.078    0.118    0.159    0.303    0.352    0.060    0.825    0.454"
       ]
      },
      {
       "output_type": "stream",
       "stream": "stdout",
       "text": [
        "\n",
        "\n",
        "smc_dataset2 sparse sum log\n",
        "   0.212    0.051    0.085    0.114    0.235    0.294    0.018    0.665    0.429\n",
        "\n",
        "smc_dataset2"
       ]
      },
      {
       "output_type": "stream",
       "stream": "stdout",
       "text": [
        " sparse q=0.25 log\n",
        "   0.027    0.006    0.007    0.027    0.034    0.042    0.005    0.245    0.047\n",
        "\n",
        "smc_dataset2 sparse q=0.50 log\n",
        "   0.145    0.052    0.082    0.131    0.194    0.215    0.023    0.834    0.319"
       ]
      },
      {
       "output_type": "stream",
       "stream": "stdout",
       "text": [
        "\n",
        "\n",
        "smc_dataset2 sparse q=0.75 log\n",
        "   0.219    0.069    0.114    0.129    0.268    0.317    0.037    0.798    0.444\n",
        "\n"
       ]
      }
     ],
     "prompt_number": 26
    }
   ],
   "metadata": {}
  }
 ]
}