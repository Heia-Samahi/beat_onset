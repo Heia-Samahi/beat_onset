{
 "metadata": {
  "name": ""
 },
 "nbformat": 3,
 "nbformat_minor": 0,
 "worksheets": [
  {
   "cells": [
    {
     "cell_type": "code",
     "collapsed": false,
     "input": [
      "import numpy as np\n",
      "import scipy\n",
      "import glob\n",
      "import os\n",
      "import itertools"
     ],
     "language": "python",
     "metadata": {},
     "outputs": [],
     "prompt_number": 1
    },
    {
     "cell_type": "code",
     "collapsed": false,
     "input": [
      "ROOTPATH = os.path.sep.join([os.environ['HOME'], 'git/beat_onset/data/results'])"
     ],
     "language": "python",
     "metadata": {},
     "outputs": [],
     "prompt_number": 2
    },
    {
     "cell_type": "code",
     "collapsed": false,
     "input": [
      "# To match holzapfel'12 eval on SMC2\n",
      "N_BINS = 40"
     ],
     "language": "python",
     "metadata": {},
     "outputs": [],
     "prompt_number": 3
    },
    {
     "cell_type": "code",
     "collapsed": false,
     "input": [
      "DATASETS = ['mirex2006', 'rwcj', 'jazz_roger', 'smc_dataset2']"
     ],
     "language": "python",
     "metadata": {},
     "outputs": [],
     "prompt_number": 4
    },
    {
     "cell_type": "code",
     "collapsed": false,
     "input": [
      "SCORENAMES = ['Cemgil', 'CMLc', 'CMLt', 'AMLc', 'AMLt', 'F-Meas', 'Goto', 'I.Gain', 'P_score']"
     ],
     "language": "python",
     "metadata": {},
     "outputs": [],
     "prompt_number": 5
    },
    {
     "cell_type": "code",
     "collapsed": false,
     "input": [
      "SPECS = ['full', 'harmonic', 'percussive', 'lowrank', 'sparse']\n",
      "#SPECS = ['lowrank']\n",
      "#SCALE = ['linear', 'log']\n",
      "SCALE = ['log']\n",
      "#AGGS  = ['sum', 'q=0.25', 'q=0.50', 'q=0.75']\n",
      "AGGS  = ['sum', 'q=0.50']"
     ],
     "language": "python",
     "metadata": {},
     "outputs": [],
     "prompt_number": 29
    },
    {
     "cell_type": "code",
     "collapsed": false,
     "input": [
      "def evaluate_our_predictions(data, spec, scale, agg):\n",
      "    path = os.path.sep.join([ROOTPATH, data, os.path.extsep.join(['*', scale, agg, spec, 'scores.txt'])])\n",
      "    \n",
      "    files = sorted(glob.glob(path))\n",
      "    print data, spec, agg, scale\n",
      "    evaluate_predictions(files)\n",
      "\n",
      "def evaluate_beatroot_predictions(data):\n",
      "    path = os.path.sep.join([ROOTPATH, data, os.path.extsep.join(['*', 'beatroot.scores.txt'])])\n",
      "    \n",
      "    files = sorted(glob.glob(path))\n",
      "    print data, 'BeatRoot'\n",
      "    \n",
      "    evaluate_predictions(files)\n",
      "    \n",
      "def evaluate_predictions(files):\n",
      "    scores = None\n",
      "    \n",
      "    for f in files:\n",
      "        values = np.loadtxt(f, delimiter=',')\n",
      "        if scores is None:\n",
      "            scores = values\n",
      "        else:\n",
      "            scores = np.vstack([scores, values])\n",
      "    \n",
      "    # Un-normalize information gain\n",
      "    scores[:,-2] *= np.log2(N_BINS)\n",
      "    scores = np.mean(scores, axis=0)\n",
      "    \n",
      "    print ' '.join(map(lambda x: '   %0.3f' %x, scores))"
     ],
     "language": "python",
     "metadata": {},
     "outputs": [],
     "prompt_number": 7
    },
    {
     "cell_type": "code",
     "collapsed": false,
     "input": [
      "print ' '.join(map(lambda x: '%8s' %x, SCORENAMES))\n",
      "print '-' * 80\n",
      "for data in DATASETS:\n",
      "    \n",
      "    evaluate_beatroot_predictions(data)\n",
      "    print"
     ],
     "language": "python",
     "metadata": {},
     "outputs": [
      {
       "output_type": "stream",
       "stream": "stdout",
       "text": [
        "  Cemgil     CMLc     CMLt     AMLc     AMLt   F-Meas     Goto   I.Gain  P_score\n",
        "--------------------------------------------------------------------------------\n",
        "mirex2006 BeatRoot\n",
        "   0.480    0.308    0.411    0.420    0.652    0.630    0.150    1.424    0.655"
       ]
      },
      {
       "output_type": "stream",
       "stream": "stdout",
       "text": [
        "\n",
        "\n",
        "rwcj BeatRoot\n",
        "   0.397    0.115    0.268    0.223    0.734    0.562    0.020    1.408    0.563"
       ]
      },
      {
       "output_type": "stream",
       "stream": "stdout",
       "text": [
        "\n",
        "\n",
        "jazz_roger BeatRoot\n",
        "   0.244    0.058    0.207    0.161    0.455    0.338    0.000    0.347    0.419"
       ]
      },
      {
       "output_type": "stream",
       "stream": "stdout",
       "text": [
        "\n",
        "\n",
        "smc_dataset2 BeatRoot\n",
        "   0.243    0.045    0.068    0.136    0.276    0.322    0.032    0.669    0.424"
       ]
      },
      {
       "output_type": "stream",
       "stream": "stdout",
       "text": [
        "\n",
        "\n"
       ]
      }
     ],
     "prompt_number": 8
    },
    {
     "cell_type": "code",
     "collapsed": false,
     "input": [
      "print ' '.join(map(lambda x: '%8s' %x, SCORENAMES))\n",
      "print '-' * 80\n",
      "for (data, spec, agg, scale) in itertools.product(DATASETS, SPECS, AGGS, SCALE):\n",
      "    evaluate_our_predictions(data, spec, scale, agg)\n",
      "    print"
     ],
     "language": "python",
     "metadata": {},
     "outputs": [
      {
       "output_type": "stream",
       "stream": "stdout",
       "text": [
        "  Cemgil     CMLc     CMLt     AMLc     AMLt   F-Meas     Goto   I.Gain  P_score\n",
        "--------------------------------------------------------------------------------\n",
        "mirex2006 full sum log\n",
        "   0.341    0.188    0.326    0.338    0.555    0.484    0.100    1.655    0.578\n",
        "\n",
        "mirex2006 full q=0.50 log\n",
        "   0.353    0.259    0.452    0.351    0.639    0.513    0.100    1.748    0.646\n",
        "\n",
        "mirex2006 harmonic sum log\n",
        "   0.328    0.209    0.325    0.309    0.502    0.469    0.100    1.547    0.567\n",
        "\n",
        "mirex2006 harmonic q=0.50 log\n",
        "   0.337    0.250    0.437    0.344    0.607    0.487    0.100    1.711    0.637\n",
        "\n",
        "mirex2006 percussive sum log\n",
        "   0.351    0.189    0.333    0.352    0.570    0.494    0.050    1.619    0.582\n",
        "\n",
        "mirex2006 percussive q=0.50 log\n",
        "   0.349    0.252    0.413    0.388    0.629    0.499    0.100    1.700    0.618\n",
        "\n",
        "mirex2006 lowrank sum log\n",
        "   0.353    0.188    0.332    0.340    0.561    0.492    0.050    1.636    0.578\n",
        "\n",
        "mirex2006 lowrank q=0.50 log\n",
        "   0.360    0.248    0.437    0.368    0.632    0.518    0.100    1.723    0.660\n",
        "\n",
        "mirex2006 sparse sum log\n",
        "   0.368    0.240    0.344    0.270    0.420    0.481    0.100    1.313    0.570\n",
        "\n",
        "mirex2006 sparse q=0.50 log\n",
        "   0.265    0.119    0.202    0.319    0.488    0.389    0.050    1.341    0.485\n",
        "\n",
        "rwcj full sum log\n",
        "   0.338    0.091    0.313    0.140    0.577    0.519    0.000    1.130    0.584\n",
        "\n",
        "rwcj full q=0.50 log\n",
        "   0.319    0.090    0.327    0.127    0.546    0.503    0.000    1.059    0.584"
       ]
      },
      {
       "output_type": "stream",
       "stream": "stdout",
       "text": [
        "\n",
        "\n",
        "rwcj harmonic sum log\n",
        "   0.329    0.092    0.299    0.140    0.561    0.512    0.000    1.102    0.576\n",
        "\n",
        "rwcj harmonic q=0.50 log\n",
        "   0.311    0.086    0.323    0.122    0.545    0.499    0.000    1.055    0.582\n",
        "\n",
        "rwcj percussive sum log\n",
        "   0.338    0.114    0.295    0.169    0.559    0.505    0.000    1.098    0.567\n",
        "\n",
        "rwcj percussive q=0.50 log\n",
        "   0.326    0.097    0.284    0.158    0.553    0.496    0.000    1.057    0.563\n",
        "\n",
        "rwcj lowrank sum log\n",
        "   0.339    0.113    0.298    0.167    0.571    0.512    0.000    1.117    0.573\n",
        "\n",
        "rwcj lowrank q=0.50 log\n",
        "   0.333    0.102    0.322    0.147    0.570    0.515    0.000    1.101    0.585\n",
        "\n",
        "rwcj sparse sum log\n",
        "   0.309    0.092    0.236    0.145    0.503    0.463    0.000    0.968    0.529"
       ]
      },
      {
       "output_type": "stream",
       "stream": "stdout",
       "text": [
        "\n",
        "\n",
        "rwcj sparse q=0.50 log\n",
        "   0.220    0.066    0.281    0.089    0.426    0.386    0.000    0.791    0.524\n",
        "\n",
        "jazz_roger full sum log\n",
        "   0.333    0.100    0.416    0.119    0.465    0.477    0.000    1.199    0.631\n",
        "\n",
        "jazz_roger full q=0.50 log\n",
        "   0.345    0.102    0.487    0.117    0.547    0.500    0.000    1.285    0.685\n",
        "\n",
        "jazz_roger harmonic sum log\n",
        "   0.321    0.091    0.402    0.109    0.454    0.460    0.000    1.155    0.622\n",
        "\n",
        "jazz_roger harmonic q=0.50 log\n",
        "   0.331    0.098    0.482    0.112    0.538    0.482    0.000    1.250    0.681\n",
        "\n",
        "jazz_roger percussive sum log\n",
        "   0.348    0.109    0.420    0.128    0.472    0.490    0.000    1.190    0.627\n",
        "\n",
        "jazz_roger percussive q=0.50 log\n",
        "   0.356    0.110    0.507    0.111    0.517    0.506    0.000    1.302    0.688\n",
        "\n",
        "jazz_roger lowrank sum log\n",
        "   0.342    0.108    0.415    0.126    0.473    0.480    0.000    1.166    0.626\n",
        "\n",
        "jazz_roger lowrank q=0.50 log\n",
        "   0.353    0.100    0.500    0.109    0.541    0.503    0.000    1.258    0.684\n",
        "\n",
        "jazz_roger sparse sum log\n",
        "   0.301    0.101    0.294    0.102    0.306    0.412    0.059    0.793    0.508\n",
        "\n",
        "jazz_roger sparse q=0.50 log\n",
        "   0.300    0.128    0.481    0.158    0.562    0.456    0.000    1.282    0.683\n",
        "\n",
        "smc_dataset2"
       ]
      },
      {
       "output_type": "stream",
       "stream": "stdout",
       "text": [
        " full sum log\n",
        "   0.267    0.074    0.122    0.154    0.312    0.362    0.051    0.839    0.460\n",
        "\n",
        "smc_dataset2 full q=0.50 log\n",
        "   0.272    0.097    0.166    0.172    0.336    0.374    0.060    0.916    0.477"
       ]
      },
      {
       "output_type": "stream",
       "stream": "stdout",
       "text": [
        "\n",
        "\n",
        "smc_dataset2 harmonic sum log\n",
        "   0.266    0.077    0.124    0.153    0.313    0.363    0.060    0.835    0.463\n",
        "\n",
        "smc_dataset2 harmonic q=0.50 log\n",
        "   0.265    0.095    0.165    0.165    0.329    0.368    0.055    0.916    0.480"
       ]
      },
      {
       "output_type": "stream",
       "stream": "stdout",
       "text": [
        "\n",
        "\n",
        "smc_dataset2 percussive sum log\n",
        "   0.266    0.071    0.114    0.151    0.304    0.357    0.051    0.811    0.454\n",
        "\n",
        "smc_dataset2 percussive q=0.50 log\n",
        "   0.280    0.091    0.152    0.189    0.364    0.381    0.069    0.946    0.475"
       ]
      },
      {
       "output_type": "stream",
       "stream": "stdout",
       "text": [
        "\n",
        "\n",
        "smc_dataset2 lowrank sum log\n",
        "   0.265    0.075    0.118    0.158    0.310    0.357    0.060    0.835    0.455\n",
        "\n",
        "smc_dataset2 lowrank q=0.50 log\n",
        "   0.275    0.090    0.151    0.168    0.331    0.376    0.060    0.896    0.475"
       ]
      },
      {
       "output_type": "stream",
       "stream": "stdout",
       "text": [
        "\n",
        "\n",
        "smc_dataset2 sparse sum log\n",
        "   0.212    0.051    0.085    0.114    0.235    0.294    0.018    0.665    0.429\n",
        "\n",
        "smc_dataset2 sparse q=0.50 log\n",
        "   0.145    0.052    0.082    0.131    0.194    0.215    0.023    0.834    0.319"
       ]
      },
      {
       "output_type": "stream",
       "stream": "stdout",
       "text": [
        "\n",
        "\n"
       ]
      }
     ],
     "prompt_number": 30
    }
   ],
   "metadata": {}
  }
 ]
}