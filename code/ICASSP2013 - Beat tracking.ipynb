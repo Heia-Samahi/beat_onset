{
 "metadata": {
  "name": ""
 },
 "nbformat": 3,
 "nbformat_minor": 0,
 "worksheets": [
  {
   "cells": [
    {
     "cell_type": "code",
     "collapsed": false,
     "input": [
      "import numpy as np\n",
      "import scipy\n",
      "import glob\n",
      "import os\n",
      "import itertools"
     ],
     "language": "python",
     "metadata": {},
     "outputs": [],
     "prompt_number": 1
    },
    {
     "cell_type": "code",
     "collapsed": false,
     "input": [
      "ROOTPATH = os.path.sep.join([os.environ['HOME'], 'git/beat_onset/data/results'])"
     ],
     "language": "python",
     "metadata": {},
     "outputs": [],
     "prompt_number": 2
    },
    {
     "cell_type": "code",
     "collapsed": false,
     "input": [
      "# To match holzapfel'12 eval on SMC2\n",
      "N_BINS = 40"
     ],
     "language": "python",
     "metadata": {},
     "outputs": [],
     "prompt_number": 3
    },
    {
     "cell_type": "code",
     "collapsed": false,
     "input": [
      "#DATASETS = ['mirex2006', 'rwcj', 'jazz_roger', 'smc_dataset2']\n",
      "DATASETS = ['smc_dataset2']"
     ],
     "language": "python",
     "metadata": {},
     "outputs": [],
     "prompt_number": 148
    },
    {
     "cell_type": "code",
     "collapsed": false,
     "input": [
      "SCORENAMES = ['Cemgil', 'CMLc', 'CMLt', 'AMLc', 'AMLt', 'F-Meas', 'Goto', 'I.Gain', 'P_score']"
     ],
     "language": "python",
     "metadata": {},
     "outputs": [],
     "prompt_number": 5
    },
    {
     "cell_type": "code",
     "collapsed": false,
     "input": [
      "SPECS = ['full', 'harmonic', 'percussive', 'lowrank', 'hp']\n",
      "#SPECS = ['lowrank']\n",
      "SCALE = ['log']\n",
      "#SCALE = ['linear', 'log', 'cbrt']\n",
      "#AGGS  = ['sum', 'q=0.25', 'q=0.50', 'q=0.75']\n",
      "AGGS  = ['sum', 'q=0.50']"
     ],
     "language": "python",
     "metadata": {},
     "outputs": [],
     "prompt_number": 151
    },
    {
     "cell_type": "code",
     "collapsed": false,
     "input": [
      "def evaluate_our_predictions(data, spec, scale, agg):\n",
      "    path = os.path.sep.join([ROOTPATH, data, os.path.extsep.join(['*', scale, agg, spec, 'scores.txt'])])\n",
      "    \n",
      "    files = sorted(glob.glob(path))\n",
      "    print data, spec, agg, scale\n",
      "    evaluate_predictions(files)\n",
      "\n",
      "def evaluate_beatroot_predictions(data):\n",
      "    path = os.path.sep.join([ROOTPATH, data, os.path.extsep.join(['*', 'beatroot.scores.txt'])])\n",
      "    \n",
      "    files = sorted(glob.glob(path))\n",
      "    print data, 'BeatRoot'\n",
      "    \n",
      "    evaluate_predictions(files)\n",
      "    \n",
      "def evaluate_predictions(files):\n",
      "    scores = None\n",
      "    \n",
      "    for f in files:\n",
      "        values = np.loadtxt(f, delimiter=',')\n",
      "        if scores is None:\n",
      "            scores = values\n",
      "        else:\n",
      "            scores = np.vstack([scores, values])\n",
      "    \n",
      "    # Un-normalize information gain\n",
      "    scores[:,-2] *= np.log2(N_BINS)\n",
      "    n = scores.shape[0]\n",
      "    errs = np.std(scores, axis=0) / np.sqrt(n)\n",
      "    scores = np.mean(scores, axis=0)\n",
      "    \n",
      "    print ' '.join(map(lambda x: '   %0.3f' %x, scores))\n",
      "    print ' '.join(map(lambda x: ' +-%0.3f' %x, errs))"
     ],
     "language": "python",
     "metadata": {},
     "outputs": [],
     "prompt_number": 88
    },
    {
     "cell_type": "code",
     "collapsed": false,
     "input": [
      "print ' '.join(map(lambda x: '%8s' %x, SCORENAMES))\n",
      "print '-' * 80\n",
      "for data in DATASETS:\n",
      "    \n",
      "    evaluate_beatroot_predictions(data)\n",
      "    print"
     ],
     "language": "python",
     "metadata": {},
     "outputs": [
      {
       "output_type": "stream",
       "stream": "stdout",
       "text": [
        "  Cemgil     CMLc     CMLt     AMLc     AMLt   F-Meas     Goto   I.Gain  P_score\n",
        "--------------------------------------------------------------------------------\n",
        "smc_dataset2 BeatRoot\n",
        "   0.243    0.045    0.068    0.136    0.276    0.322    0.032    0.669    0.424"
       ]
      },
      {
       "output_type": "stream",
       "stream": "stdout",
       "text": [
        "\n",
        " +-0.011  +-0.011  +-0.014  +-0.015  +-0.019  +-0.013  +-0.012  +-0.046  +-0.009\n",
        "\n"
       ]
      }
     ],
     "prompt_number": 150
    },
    {
     "cell_type": "code",
     "collapsed": false,
     "input": [
      "print ' '.join(map(lambda x: '%8s' %x, SCORENAMES))\n",
      "print '-' * 80\n",
      "for (data, agg, spec, scale) in itertools.product(DATASETS, AGGS, SPECS, SCALE):\n",
      "    evaluate_our_predictions(data, spec, scale, agg)\n",
      "    print"
     ],
     "language": "python",
     "metadata": {},
     "outputs": [
      {
       "output_type": "stream",
       "stream": "stdout",
       "text": [
        "  Cemgil     CMLc     CMLt     AMLc     AMLt   F-Meas     Goto   I.Gain  P_score\n",
        "--------------------------------------------------------------------------------\n",
        "smc_dataset2 full sum log\n",
        "   0.267    0.074    0.122    0.154    0.312    0.362    0.051    0.839    0.460\n",
        " +-0.011  +-0.013  +-0.018  +-0.015  +-0.019  +-0.014  +-0.015  +-0.040  +-0.011\n",
        "\n",
        "smc_dataset2"
       ]
      },
      {
       "output_type": "stream",
       "stream": "stdout",
       "text": [
        " harmonic sum log\n",
        "   0.266    0.077    0.124    0.153    0.313    0.363    0.060    0.835    0.463\n",
        " +-0.011  +-0.014  +-0.018  +-0.015  +-0.019  +-0.014  +-0.016  +-0.039  +-0.011\n",
        "\n",
        "smc_dataset2 percussive sum log\n",
        "   0.266    0.071    0.114    0.151    0.304    0.357    0.051    0.811    0.454"
       ]
      },
      {
       "output_type": "stream",
       "stream": "stdout",
       "text": [
        "\n",
        " +-0.010  +-0.013  +-0.017  +-0.014  +-0.019  +-0.013  +-0.015  +-0.040  +-0.011\n",
        "\n",
        "smc_dataset2 lowrank sum log\n",
        "   0.265    0.075    0.118    0.158    0.310    0.357    0.060    0.835    0.455\n",
        " +-0.011  +-0.013  +-0.017  +-0.015  +-0.020  +-0.014  +-0.016  +-0.042  +-0.011\n",
        "\n",
        "smc_dataset2"
       ]
      },
      {
       "output_type": "stream",
       "stream": "stdout",
       "text": [
        " hp sum log\n",
        "   0.268    0.072    0.119    0.153    0.309    0.362    0.060    0.836    0.458\n",
        " +-0.011  +-0.013  +-0.017  +-0.015  +-0.020  +-0.014  +-0.016  +-0.040  +-0.011\n",
        "\n",
        "smc_dataset2"
       ]
      },
      {
       "output_type": "stream",
       "stream": "stdout",
       "text": [
        " full q=0.50 log\n",
        "   0.272    0.097    0.166    0.172    0.336    0.374    0.060    0.916    0.477\n",
        " +-0.011  +-0.014  +-0.019  +-0.015  +-0.020  +-0.014  +-0.016  +-0.043  +-0.012\n",
        "\n",
        "smc_dataset2 harmonic q=0.50 log\n",
        "   0.265    0.095    0.165    0.165    0.329    0.368    0.055    0.916    0.480"
       ]
      },
      {
       "output_type": "stream",
       "stream": "stdout",
       "text": [
        "\n",
        " +-0.011  +-0.014  +-0.019  +-0.015  +-0.020  +-0.014  +-0.016  +-0.043  +-0.012\n",
        "\n",
        "smc_dataset2 percussive q=0.50 log\n",
        "   0.280    0.091    0.152    0.189    0.364    0.381    0.069    0.946    0.475\n",
        " +-0.011  +-0.014  +-0.019  +-0.016  +-0.021  +-0.014  +-0.017  +-0.046  +-0.012\n",
        "\n",
        "smc_dataset2"
       ]
      },
      {
       "output_type": "stream",
       "stream": "stdout",
       "text": [
        " lowrank q=0.50 log\n",
        "   0.275    0.090    0.151    0.168    0.331    0.376    0.060    0.896    0.475\n",
        " +-0.011  +-0.014  +-0.019  +-0.015  +-0.020  +-0.014  +-0.016  +-0.043  +-0.012\n",
        "\n",
        "smc_dataset2 hp q=0.50 log\n",
        "   0.278    0.103    0.170    0.181    0.345    0.381    0.069    0.946    0.483"
       ]
      },
      {
       "output_type": "stream",
       "stream": "stdout",
       "text": [
        "\n",
        " +-0.011  +-0.015  +-0.020  +-0.016  +-0.021  +-0.014  +-0.017  +-0.046  +-0.013\n",
        "\n"
       ]
      }
     ],
     "prompt_number": 152
    }
   ],
   "metadata": {}
  }
 ]
}